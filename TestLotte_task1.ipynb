{
 "cells": [
  {
   "cell_type": "code",
   "execution_count": 15,
   "metadata": {},
   "outputs": [],
   "source": [
    "import numpy as np\n",
    "import pandas as pd\n",
    "import matplotlib.pyplot as plt\n",
    "import seaborn as sns\n",
    "from scipy import stats\n",
    "from sklearn.preprocessing import StandardScaler\n",
    "from  yellowbrick.cluster import KElbowVisualizer\n",
    "from sklearn.cluster import KMeans\n",
    "from sklearn.metrics import silhouette_samples, silhouette_score"
   ]
  },
  {
   "cell_type": "code",
   "execution_count": 16,
   "metadata": {},
   "outputs": [],
   "source": [
    "path = r'C:\\Users\\truon\\OneDrive\\Documents\\TestLotte\\Testing.xlsx'\n",
    "df = pd.read_excel(path, \"Data 1\", header = 1, index_col=0 )"
   ]
  },
  {
   "cell_type": "code",
   "execution_count": 17,
   "metadata": {},
   "outputs": [
    {
     "data": {
      "text/html": [
       "<div>\n",
       "<style scoped>\n",
       "    .dataframe tbody tr th:only-of-type {\n",
       "        vertical-align: middle;\n",
       "    }\n",
       "\n",
       "    .dataframe tbody tr th {\n",
       "        vertical-align: top;\n",
       "    }\n",
       "\n",
       "    .dataframe thead th {\n",
       "        text-align: right;\n",
       "    }\n",
       "</style>\n",
       "<table border=\"1\" class=\"dataframe\">\n",
       "  <thead>\n",
       "    <tr style=\"text-align: right;\">\n",
       "      <th></th>\n",
       "      <th>DNI</th>\n",
       "      <th>BDG</th>\n",
       "      <th>PTT</th>\n",
       "      <th>VTU</th>\n",
       "      <th>NTG</th>\n",
       "    </tr>\n",
       "  </thead>\n",
       "  <tbody>\n",
       "    <tr>\n",
       "      <th>% member invoice</th>\n",
       "      <td>1.853125e+01</td>\n",
       "      <td>3.190621e+01</td>\n",
       "      <td>2.787546e+01</td>\n",
       "      <td>2.870483e+01</td>\n",
       "      <td>3.056543e+01</td>\n",
       "    </tr>\n",
       "    <tr>\n",
       "      <th>Total invoice</th>\n",
       "      <td>1.039749e+06</td>\n",
       "      <td>1.113524e+06</td>\n",
       "      <td>1.230567e+06</td>\n",
       "      <td>1.716055e+06</td>\n",
       "      <td>1.675375e+06</td>\n",
       "    </tr>\n",
       "    <tr>\n",
       "      <th>Frequency member</th>\n",
       "      <td>2.800000e+00</td>\n",
       "      <td>2.400000e+00</td>\n",
       "      <td>2.600000e+00</td>\n",
       "      <td>2.300000e+00</td>\n",
       "      <td>2.300000e+00</td>\n",
       "    </tr>\n",
       "    <tr>\n",
       "      <th>Retail sale</th>\n",
       "      <td>1.997136e+11</td>\n",
       "      <td>2.734757e+11</td>\n",
       "      <td>2.696790e+11</td>\n",
       "      <td>4.111683e+11</td>\n",
       "      <td>6.538428e+11</td>\n",
       "    </tr>\n",
       "  </tbody>\n",
       "</table>\n",
       "</div>"
      ],
      "text/plain": [
       "                           DNI           BDG           PTT           VTU  \\\n",
       "% member invoice  1.853125e+01  3.190621e+01  2.787546e+01  2.870483e+01   \n",
       "Total invoice     1.039749e+06  1.113524e+06  1.230567e+06  1.716055e+06   \n",
       "Frequency member  2.800000e+00  2.400000e+00  2.600000e+00  2.300000e+00   \n",
       "Retail sale       1.997136e+11  2.734757e+11  2.696790e+11  4.111683e+11   \n",
       "\n",
       "                           NTG  \n",
       "% member invoice  3.056543e+01  \n",
       "Total invoice     1.675375e+06  \n",
       "Frequency member  2.300000e+00  \n",
       "Retail sale       6.538428e+11  "
      ]
     },
     "execution_count": 17,
     "metadata": {},
     "output_type": "execute_result"
    }
   ],
   "source": [
    "df"
   ]
  },
  {
   "cell_type": "code",
   "execution_count": 18,
   "metadata": {},
   "outputs": [
    {
     "data": {
      "text/html": [
       "<div>\n",
       "<style scoped>\n",
       "    .dataframe tbody tr th:only-of-type {\n",
       "        vertical-align: middle;\n",
       "    }\n",
       "\n",
       "    .dataframe tbody tr th {\n",
       "        vertical-align: top;\n",
       "    }\n",
       "\n",
       "    .dataframe thead th {\n",
       "        text-align: right;\n",
       "    }\n",
       "</style>\n",
       "<table border=\"1\" class=\"dataframe\">\n",
       "  <thead>\n",
       "    <tr style=\"text-align: right;\">\n",
       "      <th></th>\n",
       "      <th>% member invoice</th>\n",
       "      <th>Total invoice</th>\n",
       "      <th>Frequency member</th>\n",
       "      <th>Retail sale</th>\n",
       "    </tr>\n",
       "  </thead>\n",
       "  <tbody>\n",
       "    <tr>\n",
       "      <th>DNI</th>\n",
       "      <td>18.531254</td>\n",
       "      <td>1039749.0</td>\n",
       "      <td>2.8</td>\n",
       "      <td>1.997136e+11</td>\n",
       "    </tr>\n",
       "    <tr>\n",
       "      <th>BDG</th>\n",
       "      <td>31.906212</td>\n",
       "      <td>1113524.0</td>\n",
       "      <td>2.4</td>\n",
       "      <td>2.734757e+11</td>\n",
       "    </tr>\n",
       "    <tr>\n",
       "      <th>PTT</th>\n",
       "      <td>27.875456</td>\n",
       "      <td>1230567.0</td>\n",
       "      <td>2.6</td>\n",
       "      <td>2.696790e+11</td>\n",
       "    </tr>\n",
       "    <tr>\n",
       "      <th>VTU</th>\n",
       "      <td>28.704826</td>\n",
       "      <td>1716055.0</td>\n",
       "      <td>2.3</td>\n",
       "      <td>4.111683e+11</td>\n",
       "    </tr>\n",
       "    <tr>\n",
       "      <th>NTG</th>\n",
       "      <td>30.565428</td>\n",
       "      <td>1675375.0</td>\n",
       "      <td>2.3</td>\n",
       "      <td>6.538428e+11</td>\n",
       "    </tr>\n",
       "  </tbody>\n",
       "</table>\n",
       "</div>"
      ],
      "text/plain": [
       "     % member invoice  Total invoice  Frequency member   Retail sale\n",
       "DNI         18.531254      1039749.0               2.8  1.997136e+11\n",
       "BDG         31.906212      1113524.0               2.4  2.734757e+11\n",
       "PTT         27.875456      1230567.0               2.6  2.696790e+11\n",
       "VTU         28.704826      1716055.0               2.3  4.111683e+11\n",
       "NTG         30.565428      1675375.0               2.3  6.538428e+11"
      ]
     },
     "execution_count": 18,
     "metadata": {},
     "output_type": "execute_result"
    }
   ],
   "source": [
    "df= df.transpose()\n",
    "df"
   ]
  },
  {
   "cell_type": "code",
   "execution_count": 19,
   "metadata": {},
   "outputs": [],
   "source": [
    "scaler = StandardScaler()\n",
    "scaled_data_zscore = scaler.fit_transform(df)"
   ]
  },
  {
   "cell_type": "code",
   "execution_count": 20,
   "metadata": {},
   "outputs": [
    {
     "data": {
      "text/html": [
       "<div>\n",
       "<style scoped>\n",
       "    .dataframe tbody tr th:only-of-type {\n",
       "        vertical-align: middle;\n",
       "    }\n",
       "\n",
       "    .dataframe tbody tr th {\n",
       "        vertical-align: top;\n",
       "    }\n",
       "\n",
       "    .dataframe thead th {\n",
       "        text-align: right;\n",
       "    }\n",
       "</style>\n",
       "<table border=\"1\" class=\"dataframe\">\n",
       "  <thead>\n",
       "    <tr style=\"text-align: right;\">\n",
       "      <th></th>\n",
       "      <th>% member invoice</th>\n",
       "      <th>Total invoice</th>\n",
       "      <th>Frequency member</th>\n",
       "      <th>Retail sale</th>\n",
       "    </tr>\n",
       "  </thead>\n",
       "  <tbody>\n",
       "    <tr>\n",
       "      <th>DNI</th>\n",
       "      <td>-1.908407</td>\n",
       "      <td>-1.106261</td>\n",
       "      <td>1.650274</td>\n",
       "      <td>-1.002727</td>\n",
       "    </tr>\n",
       "    <tr>\n",
       "      <th>BDG</th>\n",
       "      <td>0.932303</td>\n",
       "      <td>-0.847418</td>\n",
       "      <td>-0.412568</td>\n",
       "      <td>-0.545775</td>\n",
       "    </tr>\n",
       "    <tr>\n",
       "      <th>PTT</th>\n",
       "      <td>0.076210</td>\n",
       "      <td>-0.436768</td>\n",
       "      <td>0.618853</td>\n",
       "      <td>-0.569295</td>\n",
       "    </tr>\n",
       "    <tr>\n",
       "      <th>VTU</th>\n",
       "      <td>0.252360</td>\n",
       "      <td>1.266587</td>\n",
       "      <td>-0.928279</td>\n",
       "      <td>0.307222</td>\n",
       "    </tr>\n",
       "    <tr>\n",
       "      <th>NTG</th>\n",
       "      <td>0.647534</td>\n",
       "      <td>1.123860</td>\n",
       "      <td>-0.928279</td>\n",
       "      <td>1.810576</td>\n",
       "    </tr>\n",
       "  </tbody>\n",
       "</table>\n",
       "</div>"
      ],
      "text/plain": [
       "     % member invoice  Total invoice  Frequency member  Retail sale\n",
       "DNI         -1.908407      -1.106261          1.650274    -1.002727\n",
       "BDG          0.932303      -0.847418         -0.412568    -0.545775\n",
       "PTT          0.076210      -0.436768          0.618853    -0.569295\n",
       "VTU          0.252360       1.266587         -0.928279     0.307222\n",
       "NTG          0.647534       1.123860         -0.928279     1.810576"
      ]
     },
     "execution_count": 20,
     "metadata": {},
     "output_type": "execute_result"
    }
   ],
   "source": [
    "df_zscore = pd.DataFrame(scaled_data_zscore, columns=df.columns, index = df.index)\n",
    "df_zscore"
   ]
  },
  {
   "cell_type": "code",
   "execution_count": 21,
   "metadata": {},
   "outputs": [],
   "source": [
    "#correlation_matrix = df_zscore.corr()\n",
    "#correlation_matrix\n"
   ]
  },
  {
   "cell_type": "code",
   "execution_count": 22,
   "metadata": {},
   "outputs": [],
   "source": [
    "#model = KMeans()\n",
    "#visualizer = KElbowVisualizer(model, k=(2,6), timings = False)\n",
    "#visualizer.fit(df_zscore)  \n",
    "#visualizer.show() "
   ]
  },
  {
   "cell_type": "code",
   "execution_count": 23,
   "metadata": {},
   "outputs": [],
   "source": [
    "#visualizer = KElbowVisualizer(\n",
    "#model, k=(2,5), metric='calinski_harabasz', timings=False, locate_elbow=True)\n",
    "#visualizer.fit(df_zscore)\n",
    "#visualizer.show()"
   ]
  },
  {
   "cell_type": "code",
   "execution_count": 24,
   "metadata": {},
   "outputs": [
    {
     "name": "stderr",
     "output_type": "stream",
     "text": [
      "c:\\Users\\truon\\anaconda3\\lib\\site-packages\\sklearn\\cluster\\_kmeans.py:1382: UserWarning: KMeans is known to have a memory leak on Windows with MKL, when there are less chunks than available threads. You can avoid it by setting the environment variable OMP_NUM_THREADS=1.\n",
      "  warnings.warn(\n"
     ]
    }
   ],
   "source": [
    "model = KMeans(n_clusters = 2, init = \"k-means++\",\n",
    "max_iter = 300, n_init = 10, random_state = 0) # Tạo mô hình K-Means với số cụm là 2\n",
    "y_kmeans = model.fit(df_zscore) # Thực hiện phân cụm\n",
    "labels = model.labels_ # Lấy nhãn của từng điểm dữ liệu\n",
    "centroids = model.cluster_centers_ \n",
    "# Lấy các điểm trung tâm của cụm"
   ]
  },
  {
   "cell_type": "code",
   "execution_count": 25,
   "metadata": {},
   "outputs": [
    {
     "name": "stdout",
     "output_type": "stream",
     "text": [
      "KMeans(n_clusters=2, n_init=10, random_state=0)\n",
      " Our cluster centers are as follows\n",
      "[[ 0.44994692  1.19522338 -0.92827912  1.05889888]\n",
      " [-0.29996461 -0.79681559  0.61885275 -0.70593259]]\n"
     ]
    }
   ],
   "source": [
    "print(y_kmeans)\n",
    "print(\" Our cluster centers are as follows\")\n",
    "print(centroids)"
   ]
  },
  {
   "cell_type": "code",
   "execution_count": 26,
   "metadata": {},
   "outputs": [
    {
     "name": "stderr",
     "output_type": "stream",
     "text": [
      "c:\\Users\\truon\\anaconda3\\lib\\site-packages\\sklearn\\cluster\\_kmeans.py:1382: UserWarning: KMeans is known to have a memory leak on Windows with MKL, when there are less chunks than available threads. You can avoid it by setting the environment variable OMP_NUM_THREADS=1.\n",
      "  warnings.warn(\n"
     ]
    },
    {
     "data": {
      "text/html": [
       "<div>\n",
       "<style scoped>\n",
       "    .dataframe tbody tr th:only-of-type {\n",
       "        vertical-align: middle;\n",
       "    }\n",
       "\n",
       "    .dataframe tbody tr th {\n",
       "        vertical-align: top;\n",
       "    }\n",
       "\n",
       "    .dataframe thead th {\n",
       "        text-align: right;\n",
       "    }\n",
       "</style>\n",
       "<table border=\"1\" class=\"dataframe\">\n",
       "  <thead>\n",
       "    <tr style=\"text-align: right;\">\n",
       "      <th></th>\n",
       "      <th>% member invoice</th>\n",
       "      <th>Total invoice</th>\n",
       "      <th>Frequency member</th>\n",
       "      <th>Retail sale</th>\n",
       "      <th>cluster</th>\n",
       "    </tr>\n",
       "  </thead>\n",
       "  <tbody>\n",
       "    <tr>\n",
       "      <th>DNI</th>\n",
       "      <td>-1.908407</td>\n",
       "      <td>-1.106261</td>\n",
       "      <td>1.650274</td>\n",
       "      <td>-1.002727</td>\n",
       "      <td>1</td>\n",
       "    </tr>\n",
       "    <tr>\n",
       "      <th>BDG</th>\n",
       "      <td>0.932303</td>\n",
       "      <td>-0.847418</td>\n",
       "      <td>-0.412568</td>\n",
       "      <td>-0.545775</td>\n",
       "      <td>1</td>\n",
       "    </tr>\n",
       "    <tr>\n",
       "      <th>PTT</th>\n",
       "      <td>0.076210</td>\n",
       "      <td>-0.436768</td>\n",
       "      <td>0.618853</td>\n",
       "      <td>-0.569295</td>\n",
       "      <td>1</td>\n",
       "    </tr>\n",
       "    <tr>\n",
       "      <th>VTU</th>\n",
       "      <td>0.252360</td>\n",
       "      <td>1.266587</td>\n",
       "      <td>-0.928279</td>\n",
       "      <td>0.307222</td>\n",
       "      <td>0</td>\n",
       "    </tr>\n",
       "    <tr>\n",
       "      <th>NTG</th>\n",
       "      <td>0.647534</td>\n",
       "      <td>1.123860</td>\n",
       "      <td>-0.928279</td>\n",
       "      <td>1.810576</td>\n",
       "      <td>0</td>\n",
       "    </tr>\n",
       "  </tbody>\n",
       "</table>\n",
       "</div>"
      ],
      "text/plain": [
       "     % member invoice  Total invoice  Frequency member  Retail sale  cluster\n",
       "DNI         -1.908407      -1.106261          1.650274    -1.002727        1\n",
       "BDG          0.932303      -0.847418         -0.412568    -0.545775        1\n",
       "PTT          0.076210      -0.436768          0.618853    -0.569295        1\n",
       "VTU          0.252360       1.266587         -0.928279     0.307222        0\n",
       "NTG          0.647534       1.123860         -0.928279     1.810576        0"
      ]
     },
     "execution_count": 26,
     "metadata": {},
     "output_type": "execute_result"
    }
   ],
   "source": [
    "df_res = df_zscore.copy()\n",
    "df_res['cluster']=model.fit_predict(df_zscore)\n",
    "df_res"
   ]
  },
  {
   "cell_type": "code",
   "execution_count": 27,
   "metadata": {},
   "outputs": [
    {
     "name": "stdout",
     "output_type": "stream",
     "text": [
      "Silhouette Score: 0.382\n"
     ]
    },
    {
     "name": "stderr",
     "output_type": "stream",
     "text": [
      "c:\\Users\\truon\\anaconda3\\lib\\site-packages\\sklearn\\cluster\\_kmeans.py:870: FutureWarning: The default value of `n_init` will change from 10 to 'auto' in 1.4. Set the value of `n_init` explicitly to suppress the warning\n",
      "  warnings.warn(\n",
      "c:\\Users\\truon\\anaconda3\\lib\\site-packages\\sklearn\\cluster\\_kmeans.py:1382: UserWarning: KMeans is known to have a memory leak on Windows with MKL, when there are less chunks than available threads. You can avoid it by setting the environment variable OMP_NUM_THREADS=1.\n",
      "  warnings.warn(\n"
     ]
    },
    {
     "data": {
      "image/png": "[encoded data removed]",
      "text/plain": [
       "<Figure size 800x550 with 1 Axes>"
      ]
     },
     "metadata": {},
     "output_type": "display_data"
    },
    {
     "data": {
      "text/plain": [
       "<Axes: title={'center': 'Silhouette Plot of KMeans Clustering for 5 Samples in 2 Centers'}, xlabel='silhouette coefficient values', ylabel='cluster label'>"
      ]
     },
     "execution_count": 27,
     "metadata": {},
     "output_type": "execute_result"
    }
   ],
   "source": [
    "sil_score = silhouette_score(df_zscore, labels, metric='euclidean')\n",
    "print('Silhouette Score: %.3f' % sil_score)\n",
    "from yellowbrick.cluster import SilhouetteVisualizer\n",
    "model = KMeans(2)\n",
    "visualizer = SilhouetteVisualizer(model)\n",
    "visualizer.fit(df_zscore)   \n",
    "visualizer.poof()"
   ]
  }
 ],
 "metadata": {
  "kernelspec": {
   "display_name": "base",
   "language": "python",
   "name": "python3"
  },
  "language_info": {
   "codemirror_mode": {
    "name": "ipython",
    "version": 3
   },
   "file_extension": ".py",
   "mimetype": "text/x-python",
   "name": "python",
   "nbconvert_exporter": "python",
   "pygments_lexer": "ipython3",
   "version": "3.10.9"
  },
  "orig_nbformat": 4
 },
 "nbformat": 4,
 "nbformat_minor": 2
}
